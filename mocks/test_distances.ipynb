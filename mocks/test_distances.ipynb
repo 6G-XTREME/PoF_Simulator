{
 "cells": [
  {
   "cell_type": "code",
   "execution_count": 1,
   "id": "5d1fd1a14a89f566",
   "metadata": {
    "ExecuteTime": {
     "end_time": "2025-04-01T13:59:49.390675Z",
     "start_time": "2025-04-01T13:59:48.630202Z"
    }
   },
   "outputs": [],
   "source": [
    "from model.NetworkGraph import CompleteGraph\n",
    "from model.NodeClass import Node\n",
    "from model.LinkClass import Link"
   ]
  },
  {
   "cell_type": "code",
   "execution_count": 2,
   "id": "75078f0b98f16ec0",
   "metadata": {
    "ExecuteTime": {
     "end_time": "2025-04-01T14:00:30.839991Z",
     "start_time": "2025-04-01T14:00:30.781769Z"
    }
   },
   "outputs": [
    {
     "ename": "TypeError",
     "evalue": "spring_layout() got an unexpected keyword argument 'tol'",
     "output_type": "error",
     "traceback": [
      "\u001b[31m---------------------------------------------------------------------------\u001b[39m",
      "\u001b[31mTypeError\u001b[39m                                 Traceback (most recent call last)",
      "\u001b[36mCell\u001b[39m\u001b[36m \u001b[39m\u001b[32mIn[2]\u001b[39m\u001b[32m, line 1\u001b[39m\n\u001b[32m----> \u001b[39m\u001b[32m1\u001b[39m graph = \u001b[43mCompleteGraph\u001b[49m\u001b[43m.\u001b[49m\u001b[43mof_sources\u001b[49m\u001b[43m(\u001b[49m\u001b[33;43m\"\u001b[39;49m\u001b[33;43mPassion_Xtreme_III.mat\u001b[39;49m\u001b[33;43m\"\u001b[39;49m\u001b[43m,\u001b[49m\u001b[43m \u001b[49m\u001b[33;43m\"\u001b[39;49m\u001b[33;43mNameTypes.xlsx\u001b[39;49m\u001b[33;43m\"\u001b[39;49m\u001b[43m)\u001b[49m\n",
      "\u001b[36mFile \u001b[39m\u001b[32m~/Documents/GitHub/PoF_Simulator/model/NetworkGraph.py:84\u001b[39m, in \u001b[36mCompleteGraph.of_sources\u001b[39m\u001b[34m(distance_matrix_path, xlsx_data_path, layout_function)\u001b[39m\n\u001b[32m     82\u001b[39m     pos = mds_layout(distance_matrix)\n\u001b[32m     83\u001b[39m \u001b[38;5;28;01melse\u001b[39;00m:\n\u001b[32m---> \u001b[39m\u001b[32m84\u001b[39m     pos = \u001b[43mgraph_functions\u001b[49m\u001b[43m[\u001b[49m\u001b[43mlayout_function\u001b[49m\u001b[43m]\u001b[49m\u001b[43m(\u001b[49m\u001b[43mgraph\u001b[49m\u001b[43m)\u001b[49m\n\u001b[32m     86\u001b[39m \u001b[38;5;66;03m# Create nodes\u001b[39;00m\n\u001b[32m     87\u001b[39m \u001b[38;5;28;01mfor\u001b[39;00m i \u001b[38;5;129;01min\u001b[39;00m \u001b[38;5;28mrange\u001b[39m(num_nodes):\n",
      "\u001b[36mFile \u001b[39m\u001b[32m~/Documents/GitHub/PoF_Simulator/model/NetworkGraph.py:18\u001b[39m, in \u001b[36m<lambda>\u001b[39m\u001b[34m(G)\u001b[39m\n\u001b[32m     14\u001b[39m     pos = mds.fit_transform(matrix)\n\u001b[32m     15\u001b[39m     \u001b[38;5;28;01mreturn\u001b[39;00m pos\n\u001b[32m     17\u001b[39m graph_functions = {\n\u001b[32m---> \u001b[39m\u001b[32m18\u001b[39m     \u001b[33m\"\u001b[39m\u001b[33mspring_layout\u001b[39m\u001b[33m\"\u001b[39m: \u001b[38;5;28;01mlambda\u001b[39;00m G: \u001b[43mnx\u001b[49m\u001b[43m.\u001b[49m\u001b[43mspring_layout\u001b[49m\u001b[43m(\u001b[49m\u001b[43mG\u001b[49m\u001b[43m,\u001b[49m\u001b[43m \u001b[49m\u001b[43mseed\u001b[49m\u001b[43m=\u001b[49m\u001b[32;43m42\u001b[39;49m\u001b[43m,\u001b[49m\u001b[43m \u001b[49m\u001b[43mtol\u001b[49m\u001b[43m=\u001b[49m\u001b[32;43m1e-4\u001b[39;49m\u001b[43m)\u001b[49m,\n\u001b[32m     19\u001b[39m     \u001b[33m\"\u001b[39m\u001b[33mcircular_layout\u001b[39m\u001b[33m\"\u001b[39m: \u001b[38;5;28;01mlambda\u001b[39;00m G: nx.circular_layout(G),             \u001b[38;5;66;03m# TODO: tune\u001b[39;00m\n\u001b[32m     20\u001b[39m     \u001b[33m\"\u001b[39m\u001b[33mkamada_kawai_layout\u001b[39m\u001b[33m\"\u001b[39m: \u001b[38;5;28;01mlambda\u001b[39;00m G: nx.kamada_kawai_layout(G),     \u001b[38;5;66;03m# TODO: tune\u001b[39;00m\n\u001b[32m     21\u001b[39m     \u001b[33m\"\u001b[39m\u001b[33mrandom_layout\u001b[39m\u001b[33m\"\u001b[39m: \u001b[38;5;28;01mlambda\u001b[39;00m G: nx.random_layout(G),                 \u001b[38;5;66;03m# TODO: tune\u001b[39;00m\n\u001b[32m     22\u001b[39m     \u001b[33m\"\u001b[39m\u001b[33mshell_layout\u001b[39m\u001b[33m\"\u001b[39m: \u001b[38;5;28;01mlambda\u001b[39;00m G: nx.shell_layout(G),                   \u001b[38;5;66;03m# TODO: tune\u001b[39;00m\n\u001b[32m     23\u001b[39m }\n\u001b[32m     25\u001b[39m \u001b[38;5;28;01mclass\u001b[39;00m\u001b[38;5;250m \u001b[39m\u001b[34;01mCompleteGraph\u001b[39;00m(BaseModel):\n\u001b[32m     26\u001b[39m \u001b[38;5;250m    \u001b[39m\u001b[33;03m\"\"\"\u001b[39;00m\n\u001b[32m     27\u001b[39m \u001b[33;03m    CompleteGraph is a class that represents the network of a PoF system. It contains the nodes and links of the network, and subyacent data.\u001b[39;00m\n\u001b[32m     28\u001b[39m \u001b[33;03m    \"\"\"\u001b[39;00m\n",
      "\u001b[36mFile \u001b[39m\u001b[32m~/.cache/pypoetry/virtualenvs/pof-simulation-python-Sj3CBpnm-py3.11/lib/python3.11/site-packages/networkx/utils/decorators.py:788\u001b[39m, in \u001b[36margmap.__call__.<locals>.func\u001b[39m\u001b[34m(_argmap__wrapper, *args, **kwargs)\u001b[39m\n\u001b[32m    787\u001b[39m \u001b[38;5;28;01mdef\u001b[39;00m\u001b[38;5;250m \u001b[39m\u001b[34mfunc\u001b[39m(*args, __wrapper=\u001b[38;5;28;01mNone\u001b[39;00m, **kwargs):\n\u001b[32m--> \u001b[39m\u001b[32m788\u001b[39m     \u001b[38;5;28;01mreturn\u001b[39;00m \u001b[43margmap\u001b[49m\u001b[43m.\u001b[49m\u001b[43m_lazy_compile\u001b[49m\u001b[43m(\u001b[49m\u001b[43m__wrapper\u001b[49m\u001b[43m)\u001b[49m\u001b[43m(\u001b[49m\u001b[43m*\u001b[49m\u001b[43margs\u001b[49m\u001b[43m,\u001b[49m\u001b[43m \u001b[49m\u001b[43m*\u001b[49m\u001b[43m*\u001b[49m\u001b[43mkwargs\u001b[49m\u001b[43m)\u001b[49m\n",
      "\u001b[31mTypeError\u001b[39m: spring_layout() got an unexpected keyword argument 'tol'"
     ]
    }
   ],
   "source": [
    "graph = CompleteGraph.of_sources(\"Passion_Xtreme_III.mat\", \"NameTypes.xlsx\")"
   ]
  },
  {
   "cell_type": "code",
   "execution_count": null,
   "id": "e8a86d45",
   "metadata": {},
   "outputs": [],
   "source": [
    "graph.nodes"
   ]
  },
  {
   "cell_type": "code",
   "execution_count": null,
   "id": "6308e097",
   "metadata": {},
   "outputs": [],
   "source": [
    "graph.links"
   ]
  },
  {
   "cell_type": "code",
   "execution_count": 5,
   "id": "eea45099",
   "metadata": {},
   "outputs": [],
   "source": [
    "x, y = Node.obtain_x_y_vectors(graph.nodes)\n",
    "names = Node.obtain_name_vector(graph.nodes)\n",
    "degrees = Node.obtain_degree_vector(graph.nodes)\n",
    "types = Node.obtain_type_vector(graph.nodes)"
   ]
  },
  {
   "cell_type": "code",
   "execution_count": null,
   "id": "f5543b14",
   "metadata": {},
   "outputs": [],
   "source": [
    "import json\n",
    "with open('graph_dump.json' , 'w') as f:\n",
    "    f.truncate(0)\n",
    "    f.write(json.dumps(graph.model_dump(), indent=4))\n",
    "    print(\"Graph dumped to graph_dump.json\")"
   ]
  },
  {
   "cell_type": "markdown",
   "id": "88e7ebd2",
   "metadata": {},
   "source": [
    "# Plots"
   ]
  },
  {
   "cell_type": "code",
   "execution_count": 7,
   "id": "57ec0208",
   "metadata": {},
   "outputs": [],
   "source": [
    "from model.NetworkGraphPlots import NodeDegreeHeatMapPlot, RealMapNetworkPlot"
   ]
  },
  {
   "cell_type": "code",
   "execution_count": null,
   "id": "2e2c863e",
   "metadata": {},
   "outputs": [],
   "source": [
    "NodeDegreeHeatMapPlot.plot(graph)"
   ]
  },
  {
   "cell_type": "markdown",
   "id": "05ca67c3",
   "metadata": {},
   "source": [
    "# Test distances"
   ]
  },
  {
   "cell_type": "code",
   "execution_count": 9,
   "id": "6a67f3c0",
   "metadata": {},
   "outputs": [],
   "source": [
    "import math"
   ]
  },
  {
   "cell_type": "code",
   "execution_count": null,
   "id": "d850d19e",
   "metadata": {},
   "outputs": [],
   "source": [
    "\n",
    "num_links_wrong = 0\n",
    "for i, link in enumerate(graph.links):\n",
    "    # print(link)\n",
    "    print(f'Imported distance (km): {link.distance_km}')\n",
    "    eu_distance = math.sqrt((link.a.pos[0] - link.b.pos[0])**2 + (link.a.pos[1] - link.b.pos[1])**2)\n",
    "    print(f'Euclidean distance: {eu_distance}')\n",
    "    print(f'Difference: {link.distance_km - eu_distance}')\n",
    "    print('-'*100)\n",
    "    if abs(link.distance_km - eu_distance) > 0.1 * link.distance_km:\n",
    "        num_links_wrong += 1\n",
    "\n",
    "print(f'Number of links with wrong distance: {num_links_wrong} ({len(graph.links)} total) ({num_links_wrong/len(graph.links)*100:.1f}%)')\n"
   ]
  }
 ],
 "metadata": {
  "kernelspec": {
   "display_name": "pof-simulation-python-Sj3CBpnm-py3.11",
   "language": "python",
   "name": "python3"
  },
  "language_info": {
   "codemirror_mode": {
    "name": "ipython",
    "version": 3
   },
   "file_extension": ".py",
   "mimetype": "text/x-python",
   "name": "python",
   "nbconvert_exporter": "python",
   "pygments_lexer": "ipython3",
   "version": "3.11.11"
  }
 },
 "nbformat": 5,
 "nbformat_minor": 9
}

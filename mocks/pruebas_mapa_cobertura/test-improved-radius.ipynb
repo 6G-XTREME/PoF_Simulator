{
 "cells": [
  {
   "cell_type": "code",
   "execution_count": 1,
   "metadata": {
    "ExecuteTime": {
     "end_time": "2025-04-09T08:39:26.351635Z",
     "start_time": "2025-04-09T08:39:25.473812Z"
    }
   },
   "outputs": [],
   "source": [
    "from shapely.geometry import Point, GeometryCollection, MultiPolygon, Polygon\n",
    "from model.RegionsCalcs import create_regions\n",
    "from model.RegionsPlotter import standard_plot\n",
    "import numpy as np\n",
    "from model.NetworkGraph import CompleteGraph\n",
    "from model.NodeClass import Node\n",
    "from model.LinkClass import Link\n",
    "from model.NetworkGraphPlots import NodeDegreeHeatMapPlot\n",
    "from numpy import random"
   ]
  },
  {
   "cell_type": "code",
   "execution_count": 2,
   "metadata": {
    "ExecuteTime": {
     "end_time": "2025-04-09T08:39:28.244970Z",
     "start_time": "2025-04-09T08:39:28.107699Z"
    }
   },
   "outputs": [
    {
     "name": "stdout",
     "output_type": "stream",
     "text": [
      "Discarded nodes: 39\n",
      "Discarded links: 0\n",
      "Links: 174\n",
      "Nodes: 154\n",
      "\n",
      "*-*-* Printing information about the imported network *-*-*\n",
      "\n",
      "Num nodes: 154\n",
      "Num links: 174\n",
      "Num HL4: 20\n",
      "Num HL5: 134\n",
      "Average distance: 2.58\n",
      "Max distance (km): 22.00\n",
      "Min distance (km): 0.18\n",
      "Average degree: 2.27\n",
      "Min degree: 1\n",
      "Max degree: 10\n",
      "Average degree HL4: 1.95\n",
      "Average degree HL5: 2.32\n",
      "Total bidirectional link length (km): 448.84\n"
     ]
    }
   ],
   "source": [
    "# Import the network\n",
    "graph = CompleteGraph.of_sources(\"../Passion_Xtreme_III.mat\", \"../NameTypes.xlsx\")"
   ]
  },
  {
   "cell_type": "code",
   "execution_count": 3,
   "metadata": {},
   "outputs": [
    {
     "name": "stdout",
     "output_type": "stream",
     "text": [
      "[(0.0, 0.0), (0.0, 98.53143101823554), (95.58191009784183, 98.53143101823554), (95.58191009784183, 0.0), (0.0, 0.0)]\n"
     ]
    }
   ],
   "source": [
    "# Common scenario for both cases\n",
    "# Params\n",
    "scaling_factor = 1  # No scaling\n",
    "p_tx_macro = 40     # W\n",
    "p_tx_fem = 10       # W\n",
    "alpha_loss = 4      # dB\n",
    "def_max_rad = 500   # meters\n",
    "prob_fem = 1\n",
    "\n",
    "\n",
    "cells = []\n",
    "cells_max_radius = []\n",
    "assocciated_nodes = []\n",
    "for node in graph.nodes:\n",
    "    if node.type == \"HL5\":\n",
    "        assocciated_nodes.append(node)\n",
    "\n",
    "\n",
    "assocciated_nodes = sorted(assocciated_nodes, key=lambda x: x.type == \"HL4\", reverse=True)\n",
    "for node in assocciated_nodes:\n",
    "    if node.type == \"HL4\":\n",
    "        cells.append((node.pos[0] * scaling_factor, node.pos[1] * scaling_factor, p_tx_macro))\n",
    "    else:\n",
    "        cells.append((node.pos[0] * scaling_factor, node.pos[1] * scaling_factor, p_tx_fem))\n",
    "        cells_max_radius.append(def_max_rad)\n",
    "\n",
    "\n",
    "base_area = [(x * scaling_factor, y * scaling_factor) for x, y in graph.network_polygon_bounds]\n",
    "print(base_area)"
   ]
  },
  {
   "cell_type": "markdown",
   "metadata": {},
   "source": [
    "# Case 1: Try with power-based radius"
   ]
  },
  {
   "cell_type": "code",
   "execution_count": 4,
   "metadata": {},
   "outputs": [
    {
     "ename": "GEOSException",
     "evalue": "TopologyException: found non-noded intersection between LINESTRING (-0.0001 64.784, -0.0001 59.2918) and LINESTRING (-0.0001 59.2918, -0.0001 65.0563) at -9.9999999999999991e-05 64.784025382879463",
     "output_type": "error",
     "traceback": [
      "\u001b[31m---------------------------------------------------------------------------\u001b[39m",
      "\u001b[31mGEOSException\u001b[39m                             Traceback (most recent call last)",
      "\u001b[36mCell\u001b[39m\u001b[36m \u001b[39m\u001b[32mIn[4]\u001b[39m\u001b[32m, line 1\u001b[39m\n\u001b[32m----> \u001b[39m\u001b[32m1\u001b[39m regions = \u001b[43mcreate_regions\u001b[49m\u001b[43m(\u001b[49m\n\u001b[32m      2\u001b[39m \u001b[43m    \u001b[49m\u001b[43mnp\u001b[49m\u001b[43m.\u001b[49m\u001b[43marray\u001b[49m\u001b[43m(\u001b[49m\u001b[43mcells\u001b[49m\u001b[43m)\u001b[49m\u001b[43m,\u001b[49m\n\u001b[32m      3\u001b[39m \u001b[43m    \u001b[49m\u001b[43malpha_loss\u001b[49m\u001b[43m,\u001b[49m\u001b[43m \u001b[49m\n\u001b[32m      4\u001b[39m \u001b[43m    \u001b[49m\u001b[43mpolygon_bounds\u001b[49m\u001b[43m=\u001b[49m\u001b[43mbase_area\u001b[49m\u001b[43m,\u001b[49m\n\u001b[32m      5\u001b[39m \u001b[43m    \u001b[49m\u001b[43meuclidean_to_km_scale\u001b[49m\u001b[43m=\u001b[49m\u001b[43mscaling_factor\u001b[49m\u001b[43m,\u001b[49m\n\u001b[32m      6\u001b[39m \u001b[43m    \u001b[49m\u001b[43muse_power_based_radius\u001b[49m\u001b[43m=\u001b[49m\u001b[38;5;28;43;01mTrue\u001b[39;49;00m\u001b[43m,\u001b[49m\n\u001b[32m      7\u001b[39m \u001b[43m)\u001b[49m\n\u001b[32m      8\u001b[39m regions\n",
      "\u001b[36mFile \u001b[39m\u001b[32m~/Documents/GitHub/PoF_Simulator/model/RegionsCalcs.py:106\u001b[39m, in \u001b[36mcreate_regions\u001b[39m\u001b[34m(BaseStations, alpha_loss, polygon_bounds, euclidean_to_km_scale, use_power_based_radius, max_radius_km_list)\u001b[39m\n\u001b[32m    103\u001b[39m     _UnsoldRegion = _UnsoldRegion.buffer(\u001b[32m0\u001b[39m)\n\u001b[32m    105\u001b[39m Regions[k] = _Region\n\u001b[32m--> \u001b[39m\u001b[32m106\u001b[39m _UnsoldRegion = \u001b[43m_UnsoldRegion\u001b[49m\u001b[43m.\u001b[49m\u001b[43mdifference\u001b[49m\u001b[43m(\u001b[49m\u001b[43m_Region\u001b[49m\u001b[43m)\u001b[49m\n\u001b[32m    107\u001b[39m \u001b[38;5;28;01mif\u001b[39;00m \u001b[38;5;129;01mnot\u001b[39;00m _UnsoldRegion.is_valid:\n\u001b[32m    108\u001b[39m     _UnsoldRegion = _UnsoldRegion.buffer(\u001b[32m0\u001b[39m)\n",
      "\u001b[36mFile \u001b[39m\u001b[32m~/.cache/pypoetry/virtualenvs/pof-simulation-python-Sj3CBpnm-py3.11/lib/python3.11/site-packages/shapely/geometry/base.py:574\u001b[39m, in \u001b[36mBaseGeometry.difference\u001b[39m\u001b[34m(self, other, grid_size)\u001b[39m\n\u001b[32m    568\u001b[39m \u001b[38;5;28;01mdef\u001b[39;00m\u001b[38;5;250m \u001b[39m\u001b[34mdifference\u001b[39m(\u001b[38;5;28mself\u001b[39m, other, grid_size=\u001b[38;5;28;01mNone\u001b[39;00m):\n\u001b[32m    569\u001b[39m \u001b[38;5;250m    \u001b[39m\u001b[33;03m\"\"\"\u001b[39;00m\n\u001b[32m    570\u001b[39m \u001b[33;03m    Returns the difference of the geometries.\u001b[39;00m\n\u001b[32m    571\u001b[39m \n\u001b[32m    572\u001b[39m \u001b[33;03m    Refer to `shapely.difference` for full documentation.\u001b[39;00m\n\u001b[32m    573\u001b[39m \u001b[33;03m    \"\"\"\u001b[39;00m\n\u001b[32m--> \u001b[39m\u001b[32m574\u001b[39m     \u001b[38;5;28;01mreturn\u001b[39;00m \u001b[43mshapely\u001b[49m\u001b[43m.\u001b[49m\u001b[43mdifference\u001b[49m\u001b[43m(\u001b[49m\u001b[38;5;28;43mself\u001b[39;49m\u001b[43m,\u001b[49m\u001b[43m \u001b[49m\u001b[43mother\u001b[49m\u001b[43m,\u001b[49m\u001b[43m \u001b[49m\u001b[43mgrid_size\u001b[49m\u001b[43m=\u001b[49m\u001b[43mgrid_size\u001b[49m\u001b[43m)\u001b[49m\n",
      "\u001b[36mFile \u001b[39m\u001b[32m~/.cache/pypoetry/virtualenvs/pof-simulation-python-Sj3CBpnm-py3.11/lib/python3.11/site-packages/shapely/decorators.py:77\u001b[39m, in \u001b[36mmultithreading_enabled.<locals>.wrapped\u001b[39m\u001b[34m(*args, **kwargs)\u001b[39m\n\u001b[32m     75\u001b[39m     \u001b[38;5;28;01mfor\u001b[39;00m arr \u001b[38;5;129;01min\u001b[39;00m array_args:\n\u001b[32m     76\u001b[39m         arr.flags.writeable = \u001b[38;5;28;01mFalse\u001b[39;00m\n\u001b[32m---> \u001b[39m\u001b[32m77\u001b[39m     \u001b[38;5;28;01mreturn\u001b[39;00m \u001b[43mfunc\u001b[49m\u001b[43m(\u001b[49m\u001b[43m*\u001b[49m\u001b[43margs\u001b[49m\u001b[43m,\u001b[49m\u001b[43m \u001b[49m\u001b[43m*\u001b[49m\u001b[43m*\u001b[49m\u001b[43mkwargs\u001b[49m\u001b[43m)\u001b[49m\n\u001b[32m     78\u001b[39m \u001b[38;5;28;01mfinally\u001b[39;00m:\n\u001b[32m     79\u001b[39m     \u001b[38;5;28;01mfor\u001b[39;00m arr, old_flag \u001b[38;5;129;01min\u001b[39;00m \u001b[38;5;28mzip\u001b[39m(array_args, old_flags):\n",
      "\u001b[36mFile \u001b[39m\u001b[32m~/.cache/pypoetry/virtualenvs/pof-simulation-python-Sj3CBpnm-py3.11/lib/python3.11/site-packages/shapely/set_operations.py:77\u001b[39m, in \u001b[36mdifference\u001b[39m\u001b[34m(a, b, grid_size, **kwargs)\u001b[39m\n\u001b[32m     73\u001b[39m         \u001b[38;5;28;01mraise\u001b[39;00m \u001b[38;5;167;01mValueError\u001b[39;00m(\u001b[33m\"\u001b[39m\u001b[33mgrid_size parameter only accepts scalar values\u001b[39m\u001b[33m\"\u001b[39m)\n\u001b[32m     75\u001b[39m     \u001b[38;5;28;01mreturn\u001b[39;00m lib.difference_prec(a, b, grid_size, **kwargs)\n\u001b[32m---> \u001b[39m\u001b[32m77\u001b[39m \u001b[38;5;28;01mreturn\u001b[39;00m \u001b[43mlib\u001b[49m\u001b[43m.\u001b[49m\u001b[43mdifference\u001b[49m\u001b[43m(\u001b[49m\u001b[43ma\u001b[49m\u001b[43m,\u001b[49m\u001b[43m \u001b[49m\u001b[43mb\u001b[49m\u001b[43m,\u001b[49m\u001b[43m \u001b[49m\u001b[43m*\u001b[49m\u001b[43m*\u001b[49m\u001b[43mkwargs\u001b[49m\u001b[43m)\u001b[49m\n",
      "\u001b[31mGEOSException\u001b[39m: TopologyException: found non-noded intersection between LINESTRING (-0.0001 64.784, -0.0001 59.2918) and LINESTRING (-0.0001 59.2918, -0.0001 65.0563) at -9.9999999999999991e-05 64.784025382879463"
     ]
    }
   ],
   "source": [
    "\n",
    "regions = create_regions(\n",
    "    np.array(cells),\n",
    "    alpha_loss, \n",
    "    polygon_bounds=base_area,\n",
    "    euclidean_to_km_scale=scaling_factor,\n",
    "    use_power_based_radius=True,\n",
    ")\n",
    "regions"
   ]
  },
  {
   "cell_type": "code",
   "execution_count": null,
   "metadata": {},
   "outputs": [],
   "source": [
    "standard_plot(\n",
    "    regions, \n",
    "    graph.nodes, \n",
    "    1000, \n",
    "    femtocell_config={\"marker\": \".\", \"s\": 5},\n",
    "    plot_config={\"title\": \"Regions for base stations\", \"figsize\": (10, 10)},\n",
    ")"
   ]
  },
  {
   "cell_type": "markdown",
   "metadata": {},
   "source": [
    "# Case 2: Try with max-distance based radius"
   ]
  },
  {
   "cell_type": "code",
   "execution_count": null,
   "metadata": {},
   "outputs": [],
   "source": [
    "regions_2 = create_regions(\n",
    "    np.array(cells),\n",
    "    alpha_loss, \n",
    "    polygon_bounds=base_area,\n",
    "    euclidean_to_km_scale=scaling_factor,\n",
    "    use_power_based_radius=False,\n",
    "    max_radius_km_list=cells_max_radius,\n",
    ")\n",
    "regions_2"
   ]
  },
  {
   "cell_type": "code",
   "execution_count": null,
   "metadata": {},
   "outputs": [],
   "source": [
    "standard_plot(\n",
    "    regions_2, \n",
    "    graph.nodes, \n",
    "    1000, \n",
    "    femtocell_config={\"marker\": \".\", \"s\": 5},\n",
    "    plot_config={\"title\": \"Regions for base stations\", \"figsize\": (10, 10)},\n",
    ")"
   ]
  }
 ],
 "metadata": {
  "kernelspec": {
   "display_name": "pof-simulation-python-Sj3CBpnm-py3.11",
   "language": "python",
   "name": "python3"
  },
  "language_info": {
   "codemirror_mode": {
    "name": "ipython",
    "version": 3
   },
   "file_extension": ".py",
   "mimetype": "text/x-python",
   "name": "python",
   "nbconvert_exporter": "python",
   "pygments_lexer": "ipython3",
   "version": "3.11.11"
  }
 },
 "nbformat": 4,
 "nbformat_minor": 2
}

{
 "cells": [
  {
   "cell_type": "code",
   "execution_count": 1,
   "metadata": {},
   "outputs": [],
   "source": [
    "from model.MatFileStorageParser import FileModel"
   ]
  },
  {
   "cell_type": "code",
   "execution_count": 2,
   "metadata": {},
   "outputs": [],
   "source": [
    "file = \"use_case_1_2_pools.mat\"\n",
    "\n",
    "bs, nf, nm = FileModel.load_file_basic(file)"
   ]
  },
  {
   "cell_type": "code",
   "execution_count": 3,
   "metadata": {},
   "outputs": [
    {
     "data": {
      "text/plain": [
       "array([[10.12300401, 39.56292084,  0.1       ],\n",
       "       [59.77221046, 32.98537944, 40.        ],\n",
       "       [ 2.        , 27.78909366,  0.1       ],\n",
       "       [56.14274585, 39.22318859,  0.1       ],\n",
       "       [69.50889474, 39.85243194,  0.1       ],\n",
       "       [11.22877038, 30.75747819, 40.        ],\n",
       "       [72.4792569 , 30.15115258,  0.1       ],\n",
       "       [51.5545647 , 15.14990663,  0.1       ],\n",
       "       [32.95463089, 29.38573977,  0.1       ],\n",
       "       [ 9.18900065, 22.06022915,  0.1       ],\n",
       "       [50.66337746,  7.44246264,  0.1       ],\n",
       "       [33.35079778,  2.        ,  0.1       ],\n",
       "       [52.00805917, 30.35019544,  0.1       ],\n",
       "       [ 5.22945301, 33.72943206,  0.1       ],\n",
       "       [35.47109623, 38.76424705, 40.        ],\n",
       "       [41.4060429 , 16.21839423, 40.        ],\n",
       "       [30.87521621, 59.03593972,  0.1       ]])"
      ]
     },
     "execution_count": 3,
     "metadata": {},
     "output_type": "execute_result"
    }
   ],
   "source": [
    "bs"
   ]
  },
  {
   "cell_type": "code",
   "execution_count": null,
   "metadata": {},
   "outputs": [],
   "source": []
  }
 ],
 "metadata": {
  "kernelspec": {
   "display_name": "pof-simulation-python-Sj3CBpnm-py3.11",
   "language": "python",
   "name": "python3"
  },
  "language_info": {
   "codemirror_mode": {
    "name": "ipython",
    "version": 3
   },
   "file_extension": ".py",
   "mimetype": "text/x-python",
   "name": "python",
   "nbconvert_exporter": "python",
   "pygments_lexer": "ipython3",
   "version": "3.11.11"
  }
 },
 "nbformat": 4,
 "nbformat_minor": 2
}

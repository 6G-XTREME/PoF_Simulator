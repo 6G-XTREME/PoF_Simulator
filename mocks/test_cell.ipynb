{
 "cells": [
  {
   "cell_type": "code",
   "execution_count": 1,
   "metadata": {},
   "outputs": [],
   "source": [
    "from model.CellClass import MacroCell, FemtoCell\n",
    "from model.NodeClass import Node, NodeHostingCell"
   ]
  },
  {
   "cell_type": "code",
   "execution_count": 2,
   "metadata": {},
   "outputs": [],
   "source": [
    "node_1 = Node(name=\"Node 1\", pos=(0, 0), node_degree=0, type=\"Node\")"
   ]
  },
  {
   "cell_type": "code",
   "execution_count": 4,
   "metadata": {},
   "outputs": [
    {
     "data": {
      "text/plain": [
       "{'id': 'dbb6d39c1fc7426da689fe4ea0283deb',\n",
       " 'pos': (0.0, 0.0),\n",
       " 'hosting_node_id': '6eb56d624fcb41ffaae247644045c68a',\n",
       " 'capacity': None,\n",
       " 'radius': None}"
      ]
     },
     "execution_count": 4,
     "metadata": {},
     "output_type": "execute_result"
    }
   ],
   "source": [
    "macro_1 = MacroCell(pos=node_1.pos, hosting_node_id=node_1.id)\n",
    "macro_1.model_dump()"
   ]
  }
 ],
 "metadata": {
  "kernelspec": {
   "display_name": "pof-simulation-python-Sj3CBpnm-py3.11",
   "language": "python",
   "name": "python3"
  },
  "language_info": {
   "codemirror_mode": {
    "name": "ipython",
    "version": 3
   },
   "file_extension": ".py",
   "mimetype": "text/x-python",
   "name": "python",
   "nbconvert_exporter": "python",
   "pygments_lexer": "ipython3",
   "version": "3.11.11"
  }
 },
 "nbformat": 4,
 "nbformat_minor": 2
}
